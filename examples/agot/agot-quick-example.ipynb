{
 "cells": [
  {
   "cell_type": "markdown",
   "metadata": {},
   "source": [
    "# Imports"
   ]
  },
  {
   "cell_type": "code",
   "execution_count": 1,
   "metadata": {},
   "outputs": [],
   "source": [
    "import os\n",
    "\n",
    "from multi_agent_llm import AGOT, OpenAILLM\n",
    "\n",
    "from pydantic import BaseModel, Field"
   ]
  },
  {
   "cell_type": "markdown",
   "metadata": {},
   "source": [
    "# Set OpenAI API Key"
   ]
  },
  {
   "cell_type": "code",
   "execution_count": 2,
   "metadata": {},
   "outputs": [],
   "source": [
    "os.environ['OPENAI_API_KEY'] = open('../openai_token.key').read().strip()"
   ]
  },
  {
   "cell_type": "markdown",
   "metadata": {},
   "source": [
    "# Initialize an LLM client"
   ]
  },
  {
   "cell_type": "code",
   "execution_count": 3,
   "metadata": {},
   "outputs": [],
   "source": [
    "llm = OpenAILLM(\"gpt-4o-mini\", temperature=0.3)"
   ]
  },
  {
   "cell_type": "markdown",
   "metadata": {},
   "source": [
    "# Define an output schema"
   ]
  },
  {
   "cell_type": "code",
   "execution_count": 4,
   "metadata": {},
   "outputs": [],
   "source": [
    "class QueryAnswer(BaseModel):\n",
    "    explanation: str = Field(description=\"Explanation of the answer.\")\n",
    "    answer: str = Field(description=\"Final multiple-choice answer.\")\n",
    "    answer_label: str = Field(description=\"Label of the answer. Either A, B, C, or D.\")"
   ]
  },
  {
   "cell_type": "markdown",
   "metadata": {},
   "source": [
    "# Sample query using Adaptive Graph of Thoughts (AGoT)"
   ]
  },
  {
   "cell_type": "code",
   "execution_count": 5,
   "metadata": {},
   "outputs": [],
   "source": [
    "agot = AGOT(\n",
    "    llm=llm,\n",
    "    max_depth=1,\n",
    "    max_num_layers=3,\n",
    "    max_new_tasks=3,\n",
    "    max_concurrent_tasks=10,\n",
    ")"
   ]
  },
  {
   "cell_type": "code",
   "execution_count": 6,
   "metadata": {},
   "outputs": [],
   "source": [
    "question = \"\"\"\n",
    "Observations of a quasar across the electromagnetic spectrum are being carried out.\n",
    "Focusing on the near infrared and optical spectrum, there is a peak at a wavelength of about 790 nm,\n",
    "and at shorter wavelengths < 790 nm the flux drops significantly.\n",
    "\n",
    "If we lived in a universe defined by a Lambda-CDM model such that the current Hubble constant is 70 km / s / Mpc,\n",
    "the matter density parameter is 0.3, the dark energy density parameter is 0.7, and the universe is flat,\n",
    "what can be assumed about the value of the comoving distance (for scale factor a=1) of this quasar from\n",
    "the Earth?\n",
    "\n",
    "A. 6 Gpc\n",
    "B. 7 Gpc\n",
    "C. 8 Gpc\n",
    "D. 9 Gpc\n",
    "\"\"\"\n",
    "\n",
    "response = await agot.run_async(question, schema=QueryAnswer)"
   ]
  },
  {
   "cell_type": "code",
   "execution_count": 9,
   "metadata": {},
   "outputs": [
    {
     "name": "stdout",
     "output_type": "stream",
     "text": [
      "ANSWER: C - 8 Gpc\n",
      "\n",
      "EXPLANATION: The analysis of the quasar's distance was based on comoving distance calculations employing the Lambda-CDM model parameters. Given the quasar's peak emission wavelength at 790 nm and estimated redshift effects from existing literature, the comoving distance is derived using integration over the redshift, leading to a calculated distance consistent with values observed in other quasars. Previous studies have established that quasars with similar characteristics typically lie at distances ranging from 6 to 9 Gpc. The comprehensive review of analyses culminated in a well-supported final distance assessment placing the quasar at approximately 8 Gpc.\n"
     ]
    }
   ],
   "source": [
    "answer = response.final_answer\n",
    "\n",
    "print(f\"ANSWER: {answer.answer_label} - {answer.answer}\\n\")\n",
    "print(f\"EXPLANATION: {answer.explanation}\")"
   ]
  }
 ],
 "metadata": {
  "kernelspec": {
   "display_name": "agot-final",
   "language": "python",
   "name": "python3"
  },
  "language_info": {
   "codemirror_mode": {
    "name": "ipython",
    "version": 3
   },
   "file_extension": ".py",
   "mimetype": "text/x-python",
   "name": "python",
   "nbconvert_exporter": "python",
   "pygments_lexer": "ipython3",
   "version": "3.10.16"
  }
 },
 "nbformat": 4,
 "nbformat_minor": 2
}
